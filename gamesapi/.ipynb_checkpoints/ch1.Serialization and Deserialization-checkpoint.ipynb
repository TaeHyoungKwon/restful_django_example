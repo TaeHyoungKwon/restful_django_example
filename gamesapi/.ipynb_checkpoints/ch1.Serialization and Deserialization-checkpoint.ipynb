{
 "cells": [
  {
   "cell_type": "code",
   "execution_count": 2,
   "metadata": {},
   "outputs": [],
   "source": [
    "MYPROJECT = '/home/kth/workspace/python/django/restful_django/gamesapi/gamesapi'\n",
    "import os, sys\n",
    "sys.path.insert(0, MYPROJECT)\n",
    "os.environ.setdefault(\"DJANGO_SETTINGS_MODULE\", \"settings.py\")\n",
    "import django\n",
    "django.setup()"
   ]
  },
  {
   "cell_type": "code",
   "execution_count": 3,
   "metadata": {},
   "outputs": [],
   "source": [
    "from datetime import datetime\n",
    "from django.utils import timezone\n",
    "from django.utils.six import BytesIO\n",
    "from rest_framework.renderers import JSONRenderer\n",
    "from rest_framework.parsers import JSONParser\n",
    "from games.models import Game\n",
    "from games.serializers import GameSerializer"
   ]
  },
  {
   "cell_type": "markdown",
   "metadata": {},
   "source": [
    "# JSON Serialization"
   ]
  },
  {
   "cell_type": "code",
   "execution_count": 6,
   "metadata": {},
   "outputs": [],
   "source": [
    "gamedatetime = timezone.make_aware(datetime.now(), timezone.get_current_timezone())\n",
    "\n",
    "game1 = Game(name='Smurfs Jungle', release_date=gamedatetime, game_category='2D mobile arcade', played=False)\n",
    "game1.save()\n",
    "\n",
    "game2 = Game(name='Angry Birds RPG', release_date=gamedatetime, game_category='3D RPG', played=False)\n",
    "game2.save()\n"
   ]
  },
  {
   "cell_type": "code",
   "execution_count": 8,
   "metadata": {},
   "outputs": [
    {
     "data": {
      "text/plain": [
       "<Game: Game object>"
      ]
     },
     "execution_count": 8,
     "metadata": {},
     "output_type": "execute_result"
    }
   ],
   "source": [
    "game1"
   ]
  },
  {
   "cell_type": "code",
   "execution_count": 9,
   "metadata": {},
   "outputs": [
    {
     "name": "stdout",
     "output_type": "stream",
     "text": [
      "1\n",
      "Smurfs Jungle\n",
      "2017-12-19 09:12:03.703969+00:00\n",
      "2\n",
      "Angry Birds RPG\n",
      "2017-12-19 09:12:03.714778+00:00\n"
     ]
    }
   ],
   "source": [
    "print(game1.pk)\n",
    "print(game1.name)\n",
    "print(game1.created)\n",
    "\n",
    "print(game2.pk)\n",
    "print(game2.name)\n",
    "print(game2.created)\n"
   ]
  },
  {
   "cell_type": "code",
   "execution_count": 10,
   "metadata": {},
   "outputs": [
    {
     "name": "stdout",
     "output_type": "stream",
     "text": [
      "{'pk': 1, 'name': 'Smurfs Jungle', 'played': False, 'game_category': '2D mobile arcade', 'release_date': '2017-12-19T09:12:03.701760Z'}\n"
     ]
    }
   ],
   "source": [
    "game_serializer1 = GameSerializer(game1)\n",
    "print(game_serializer1.data)"
   ]
  },
  {
   "cell_type": "code",
   "execution_count": 11,
   "metadata": {},
   "outputs": [
    {
     "name": "stdout",
     "output_type": "stream",
     "text": [
      "{'pk': 2, 'name': 'Angry Birds RPG', 'played': False, 'game_category': '3D RPG', 'release_date': '2017-12-19T09:12:03.701760Z'}\n"
     ]
    }
   ],
   "source": [
    "game_serializer2 = GameSerializer(game2)\n",
    "print(game_serializer2.data)"
   ]
  },
  {
   "cell_type": "code",
   "execution_count": 12,
   "metadata": {},
   "outputs": [
    {
     "name": "stdout",
     "output_type": "stream",
     "text": [
      "b'{\"pk\":1,\"name\":\"Smurfs Jungle\",\"release_date\":\"2017-12-19T09:12:03.701760Z\",\"game_category\":\"2D mobile arcade\",\"played\":false}'\n",
      "b'{\"pk\":2,\"name\":\"Angry Birds RPG\",\"release_date\":\"2017-12-19T09:12:03.701760Z\",\"game_category\":\"3D RPG\",\"played\":false}'\n"
     ]
    }
   ],
   "source": [
    "renderer = JSONRenderer()\n",
    "rendered_game1 = renderer.render(game_serializer1.data)\n",
    "rendered_game2 = renderer.render(game_serializer2.data)\n",
    "print(rendered_game1)\n",
    "print(rendered_game2)"
   ]
  },
  {
   "cell_type": "markdown",
   "metadata": {},
   "source": [
    "# JSON Deserialization"
   ]
  },
  {
   "cell_type": "code",
   "execution_count": 15,
   "metadata": {},
   "outputs": [
    {
     "name": "stdout",
     "output_type": "stream",
     "text": [
      "{'game_category': '3D RPG', 'name': 'Tomb Raider Extreme Edition', 'played': False, 'release_date': '2016-05-18T03:02:00.776594Z'}\n"
     ]
    }
   ],
   "source": [
    "json_string_for_new_game = '{\"name\":\"Tomb Raider Extreme Edition\", \"release_date\":\"2016-05-18T03:02:00.776594Z\",\"game_category\":\"3D RPG\", \"played\":false}'\n",
    "json_bytes_for_new_game = bytes(json_string_for_new_game, encoding=\"UTF-8\")\n",
    "stream_for_new_game = BytesIO(json_bytes_for_new_game)\n",
    "parser = JSONParser()\n",
    "parsed_new_game = parser.parse(stream_for_new_game)\n",
    "print(parsed_new_game)"
   ]
  },
  {
   "cell_type": "code",
   "execution_count": 16,
   "metadata": {},
   "outputs": [
    {
     "name": "stdout",
     "output_type": "stream",
     "text": [
      "Tomb Raider Extreme Edition\n"
     ]
    }
   ],
   "source": [
    "new_game_serializer = GameSerializer(data=parsed_new_game)\n",
    "if new_game_serializer.is_valid():\n",
    "    new_game = new_game_serializer.save()\n",
    "    print(new_game.name)"
   ]
  },
  {
   "cell_type": "code",
   "execution_count": null,
   "metadata": {},
   "outputs": [],
   "source": []
  },
  {
   "cell_type": "code",
   "execution_count": null,
   "metadata": {},
   "outputs": [],
   "source": []
  },
  {
   "cell_type": "code",
   "execution_count": null,
   "metadata": {},
   "outputs": [],
   "source": []
  },
  {
   "cell_type": "code",
   "execution_count": null,
   "metadata": {},
   "outputs": [],
   "source": []
  }
 ],
 "metadata": {
  "kernelspec": {
   "display_name": "Python 3",
   "language": "python",
   "name": "python3"
  },
  "language_info": {
   "codemirror_mode": {
    "name": "ipython",
    "version": 3
   },
   "file_extension": ".py",
   "mimetype": "text/x-python",
   "name": "python",
   "nbconvert_exporter": "python",
   "pygments_lexer": "ipython3",
   "version": "3.5.2"
  }
 },
 "nbformat": 4,
 "nbformat_minor": 2
}
